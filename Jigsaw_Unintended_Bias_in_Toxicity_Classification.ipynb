{
 "cells": [
  {
   "cell_type": "code",
   "execution_count": 1,
   "id": "secondary-default",
   "metadata": {
    "_cell_guid": "b1076dfc-b9ad-4769-8c92-a6c4dae69d19",
    "_uuid": "8f2839f25d086af736a60e9eeb907d3b93b6e0e5",
    "execution": {
     "iopub.execute_input": "2021-06-23T05:51:35.887075Z",
     "iopub.status.busy": "2021-06-23T05:51:35.886576Z",
     "iopub.status.idle": "2021-06-23T05:51:42.498722Z",
     "shell.execute_reply": "2021-06-23T05:51:42.499282Z",
     "shell.execute_reply.started": "2021-06-23T05:30:48.151082Z"
    },
    "papermill": {
     "duration": 6.641875,
     "end_time": "2021-06-23T05:51:42.499536",
     "exception": false,
     "start_time": "2021-06-23T05:51:35.857661",
     "status": "completed"
    },
    "tags": []
   },
   "outputs": [
    {
     "name": "stdout",
     "output_type": "stream",
     "text": [
      "/kaggle/input/jub-train-processed/processed_train.csv\n",
      "/kaggle/input/pickled-glove840b300d-for-10sec-loading/glove.840B.300d.pkl\n",
      "/kaggle/input/jub-text-processed/processed_test.csv\n",
      "/kaggle/input/jigsaw-unintended-bias-in-toxicity-classification/sample_submission.csv\n",
      "/kaggle/input/jigsaw-unintended-bias-in-toxicity-classification/all_data.csv\n",
      "/kaggle/input/jigsaw-unintended-bias-in-toxicity-classification/test_public_expanded.csv\n",
      "/kaggle/input/jigsaw-unintended-bias-in-toxicity-classification/test_private_expanded.csv\n",
      "/kaggle/input/jigsaw-unintended-bias-in-toxicity-classification/toxicity_individual_annotations.csv\n",
      "/kaggle/input/jigsaw-unintended-bias-in-toxicity-classification/train.csv\n",
      "/kaggle/input/jigsaw-unintended-bias-in-toxicity-classification/identity_individual_annotations.csv\n",
      "/kaggle/input/jigsaw-unintended-bias-in-toxicity-classification/test.csv\n"
     ]
    }
   ],
   "source": [
    "# This Python 3 environment comes with many helpful analytics libraries installed\n",
    "# It is defined by the kaggle/python Docker image: https://github.com/kaggle/docker-python\n",
    "# For example, here's several helpful packages to load\n",
    "\n",
    "import numpy as np # linear algebra\n",
    "import pandas as pd # data processing, CSV file I/O (e.g. pd.read_csv)\n",
    "import seaborn as sns\n",
    "import nltk\n",
    "import time\n",
    "\n",
    "import tensorflow as tf\n",
    "from tensorflow.keras.preprocessing.text import Tokenizer\n",
    "from tensorflow.keras.preprocessing.sequence import pad_sequences\n",
    "from tensorflow.keras.models import Sequential\n",
    "from tensorflow.keras.layers import Dense,Flatten,Embedding,Activation, Dropout\n",
    "from tensorflow.keras.layers import GlobalAveragePooling1D\n",
    "from tensorflow.keras.layers import LSTM\n",
    "from tensorflow.keras.layers import Bidirectional\n",
    "from tensorflow.keras.optimizers import Adam\n",
    "\n",
    "from sklearn.model_selection import train_test_split\n",
    "\n",
    "# Input data files are available in the read-only \"../input/\" directory\n",
    "# For example, running this (by clicking run or pressing Shift+Enter) will list all files under the input directory\n",
    "\n",
    "import os\n",
    "for dirname, _, filenames in os.walk('/kaggle/input'):\n",
    "    for filename in filenames:\n",
    "        print(os.path.join(dirname, filename))\n",
    "\n",
    "# You can write up to 20GB to the current directory (/kaggle/working/) that gets preserved as output when you create a version using \"Save & Run All\" \n",
    "# You can also write temporary files to /kaggle/temp/, but they won't be saved outside of the current session"
   ]
  },
  {
   "cell_type": "code",
   "execution_count": 2,
   "id": "ceramic-society",
   "metadata": {
    "execution": {
     "iopub.execute_input": "2021-06-23T05:51:42.537372Z",
     "iopub.status.busy": "2021-06-23T05:51:42.536796Z",
     "iopub.status.idle": "2021-06-23T05:51:42.540579Z",
     "shell.execute_reply": "2021-06-23T05:51:42.540968Z",
     "shell.execute_reply.started": "2021-06-23T05:30:54.097563Z"
    },
    "papermill": {
     "duration": 0.023983,
     "end_time": "2021-06-23T05:51:42.541113",
     "exception": false,
     "start_time": "2021-06-23T05:51:42.517130",
     "status": "completed"
    },
    "tags": []
   },
   "outputs": [],
   "source": [
    "MAX_LEN = 100"
   ]
  },
  {
   "cell_type": "code",
   "execution_count": 3,
   "id": "cheap-humanitarian",
   "metadata": {
    "execution": {
     "iopub.execute_input": "2021-06-23T05:51:42.582402Z",
     "iopub.status.busy": "2021-06-23T05:51:42.581735Z",
     "iopub.status.idle": "2021-06-23T05:51:50.525321Z",
     "shell.execute_reply": "2021-06-23T05:51:50.524713Z",
     "shell.execute_reply.started": "2021-06-23T05:30:54.106444Z"
    },
    "papermill": {
     "duration": 7.965597,
     "end_time": "2021-06-23T05:51:50.525526",
     "exception": false,
     "start_time": "2021-06-23T05:51:42.559929",
     "status": "completed"
    },
    "tags": []
   },
   "outputs": [],
   "source": [
    "train = pd.read_csv('../input/jub-train-processed/processed_train.csv', encoding='utf8')\n",
    "test = pd.read_csv('../input/jub-text-processed/processed_test.csv', encoding='utf8')"
   ]
  },
  {
   "cell_type": "code",
   "execution_count": 4,
   "id": "frozen-american",
   "metadata": {
    "execution": {
     "iopub.execute_input": "2021-06-23T05:51:50.569690Z",
     "iopub.status.busy": "2021-06-23T05:51:50.568888Z",
     "iopub.status.idle": "2021-06-23T05:51:51.067016Z",
     "shell.execute_reply": "2021-06-23T05:51:51.066530Z",
     "shell.execute_reply.started": "2021-06-23T05:31:02.390107Z"
    },
    "papermill": {
     "duration": 0.524562,
     "end_time": "2021-06-23T05:51:51.067137",
     "exception": false,
     "start_time": "2021-06-23T05:51:50.542575",
     "status": "completed"
    },
    "tags": []
   },
   "outputs": [],
   "source": [
    "train_X = train.text.astype(str)\n",
    "train_y = train.label"
   ]
  },
  {
   "cell_type": "code",
   "execution_count": 5,
   "id": "sized-sacrifice",
   "metadata": {
    "execution": {
     "iopub.execute_input": "2021-06-23T05:51:51.129967Z",
     "iopub.status.busy": "2021-06-23T05:51:51.129243Z",
     "iopub.status.idle": "2021-06-23T05:51:51.132191Z",
     "shell.execute_reply": "2021-06-23T05:51:51.131775Z",
     "shell.execute_reply.started": "2021-06-23T05:31:02.901267Z"
    },
    "papermill": {
     "duration": 0.048694,
     "end_time": "2021-06-23T05:51:51.132304",
     "exception": false,
     "start_time": "2021-06-23T05:51:51.083610",
     "status": "completed"
    },
    "tags": []
   },
   "outputs": [],
   "source": [
    "X_test = test.text.astype(str)"
   ]
  },
  {
   "cell_type": "code",
   "execution_count": 6,
   "id": "declared-russell",
   "metadata": {
    "execution": {
     "iopub.execute_input": "2021-06-23T05:51:51.643045Z",
     "iopub.status.busy": "2021-06-23T05:51:51.511361Z",
     "iopub.status.idle": "2021-06-23T05:52:46.233242Z",
     "shell.execute_reply": "2021-06-23T05:52:46.232292Z",
     "shell.execute_reply.started": "2021-06-23T05:31:02.935406Z"
    },
    "papermill": {
     "duration": 55.084991,
     "end_time": "2021-06-23T05:52:46.233393",
     "exception": false,
     "start_time": "2021-06-23T05:51:51.148402",
     "status": "completed"
    },
    "tags": []
   },
   "outputs": [],
   "source": [
    "tokenizer = Tokenizer()\n",
    "tokenizer.fit_on_texts(list(X_test) + list(train_X))"
   ]
  },
  {
   "cell_type": "code",
   "execution_count": 7,
   "id": "governmental-accent",
   "metadata": {
    "execution": {
     "iopub.execute_input": "2021-06-23T05:52:46.272753Z",
     "iopub.status.busy": "2021-06-23T05:52:46.272037Z",
     "iopub.status.idle": "2021-06-23T05:52:46.275750Z",
     "shell.execute_reply": "2021-06-23T05:52:46.276131Z",
     "shell.execute_reply.started": "2021-06-23T05:31:57.809152Z"
    },
    "papermill": {
     "duration": 0.026385,
     "end_time": "2021-06-23T05:52:46.276266",
     "exception": false,
     "start_time": "2021-06-23T05:52:46.249881",
     "status": "completed"
    },
    "tags": []
   },
   "outputs": [
    {
     "data": {
      "text/plain": [
       "590148"
      ]
     },
     "execution_count": 7,
     "metadata": {},
     "output_type": "execute_result"
    }
   ],
   "source": [
    "vocab_size = len(tokenizer.word_index) + 1\n",
    "vocab_size"
   ]
  },
  {
   "cell_type": "code",
   "execution_count": 8,
   "id": "finite-warehouse",
   "metadata": {
    "execution": {
     "iopub.execute_input": "2021-06-23T05:52:46.341311Z",
     "iopub.status.busy": "2021-06-23T05:52:46.336031Z",
     "iopub.status.idle": "2021-06-23T05:53:29.472575Z",
     "shell.execute_reply": "2021-06-23T05:53:29.472056Z",
     "shell.execute_reply.started": "2021-06-23T05:31:57.817234Z"
    },
    "papermill": {
     "duration": 43.180519,
     "end_time": "2021-06-23T05:53:29.472718",
     "exception": false,
     "start_time": "2021-06-23T05:52:46.292199",
     "status": "completed"
    },
    "tags": []
   },
   "outputs": [],
   "source": [
    "train_X = tokenizer.texts_to_sequences(train_X)\n",
    "X_test = tokenizer.texts_to_sequences(X_test)"
   ]
  },
  {
   "cell_type": "code",
   "execution_count": 9,
   "id": "collected-melissa",
   "metadata": {
    "execution": {
     "iopub.execute_input": "2021-06-23T05:53:29.559751Z",
     "iopub.status.busy": "2021-06-23T05:53:29.544468Z",
     "iopub.status.idle": "2021-06-23T05:53:48.614095Z",
     "shell.execute_reply": "2021-06-23T05:53:48.613647Z",
     "shell.execute_reply.started": "2021-06-23T05:32:40.570724Z"
    },
    "papermill": {
     "duration": 19.124639,
     "end_time": "2021-06-23T05:53:48.614241",
     "exception": false,
     "start_time": "2021-06-23T05:53:29.489602",
     "status": "completed"
    },
    "tags": []
   },
   "outputs": [],
   "source": [
    "train_X = pad_sequences(train_X, maxlen=MAX_LEN, truncating='post', padding='post')\n",
    "X_test = pad_sequences(X_test, maxlen=MAX_LEN, truncating='post', padding='post')"
   ]
  },
  {
   "cell_type": "code",
   "execution_count": 10,
   "id": "prescription-spectrum",
   "metadata": {
    "execution": {
     "iopub.execute_input": "2021-06-23T05:53:48.650549Z",
     "iopub.status.busy": "2021-06-23T05:53:48.649983Z",
     "iopub.status.idle": "2021-06-23T05:54:17.489247Z",
     "shell.execute_reply": "2021-06-23T05:54:17.488688Z",
     "shell.execute_reply.started": "2021-06-23T05:32:58.990990Z"
    },
    "papermill": {
     "duration": 28.858698,
     "end_time": "2021-06-23T05:54:17.489442",
     "exception": false,
     "start_time": "2021-06-23T05:53:48.630744",
     "status": "completed"
    },
    "tags": []
   },
   "outputs": [],
   "source": [
    "embedding_dict = pd.read_pickle('../input/pickled-glove840b300d-for-10sec-loading/glove.840B.300d.pkl')"
   ]
  },
  {
   "cell_type": "code",
   "execution_count": 11,
   "id": "valuable-combat",
   "metadata": {
    "execution": {
     "iopub.execute_input": "2021-06-23T05:54:17.531182Z",
     "iopub.status.busy": "2021-06-23T05:54:17.530376Z",
     "iopub.status.idle": "2021-06-23T05:54:18.197853Z",
     "shell.execute_reply": "2021-06-23T05:54:18.197389Z",
     "shell.execute_reply.started": "2021-06-23T05:33:27.616789Z"
    },
    "papermill": {
     "duration": 0.690081,
     "end_time": "2021-06-23T05:54:18.197983",
     "exception": false,
     "start_time": "2021-06-23T05:54:17.507902",
     "status": "completed"
    },
    "tags": []
   },
   "outputs": [],
   "source": [
    "word_vector_matrix = np.zeros((vocab_size, 300))\n",
    "\n",
    "for word, index in tokenizer.word_index.items():\n",
    "    vector = embedding_dict.get(word)\n",
    "    if vector is not None:\n",
    "        word_vector_matrix[index] = vector"
   ]
  },
  {
   "cell_type": "code",
   "execution_count": 12,
   "id": "electronic-beaver",
   "metadata": {
    "execution": {
     "iopub.execute_input": "2021-06-23T05:54:18.578206Z",
     "iopub.status.busy": "2021-06-23T05:54:18.577395Z",
     "iopub.status.idle": "2021-06-23T05:54:18.580899Z",
     "shell.execute_reply": "2021-06-23T05:54:18.581314Z",
     "shell.execute_reply.started": "2021-06-23T05:33:28.289911Z"
    },
    "papermill": {
     "duration": 0.366854,
     "end_time": "2021-06-23T05:54:18.581461",
     "exception": false,
     "start_time": "2021-06-23T05:54:18.214607",
     "status": "completed"
    },
    "tags": []
   },
   "outputs": [
    {
     "data": {
      "text/plain": [
       "97"
      ]
     },
     "execution_count": 12,
     "metadata": {},
     "output_type": "execute_result"
    }
   ],
   "source": [
    "import gc\n",
    "del train\n",
    "gc.collect()"
   ]
  },
  {
   "cell_type": "code",
   "execution_count": 13,
   "id": "modified-quest",
   "metadata": {
    "execution": {
     "iopub.execute_input": "2021-06-23T05:54:18.620378Z",
     "iopub.status.busy": "2021-06-23T05:54:18.619464Z",
     "iopub.status.idle": "2021-06-23T05:54:19.026908Z",
     "shell.execute_reply": "2021-06-23T05:54:19.026446Z",
     "shell.execute_reply.started": "2021-06-23T05:33:28.645306Z"
    },
    "papermill": {
     "duration": 0.428622,
     "end_time": "2021-06-23T05:54:19.027037",
     "exception": false,
     "start_time": "2021-06-23T05:54:18.598415",
     "status": "completed"
    },
    "tags": []
   },
   "outputs": [],
   "source": [
    "X_train, X_val, y_train, y_val = train_test_split(train_X, train_y, random_state = 41, test_size = 0.2)"
   ]
  },
  {
   "cell_type": "code",
   "execution_count": 14,
   "id": "dirty-usage",
   "metadata": {
    "execution": {
     "iopub.execute_input": "2021-06-23T05:54:19.066041Z",
     "iopub.status.busy": "2021-06-23T05:54:19.064809Z",
     "iopub.status.idle": "2021-06-23T05:54:19.067149Z",
     "shell.execute_reply": "2021-06-23T05:54:19.067537Z",
     "shell.execute_reply.started": "2021-06-23T05:33:29.065979Z"
    },
    "papermill": {
     "duration": 0.023051,
     "end_time": "2021-06-23T05:54:19.067662",
     "exception": false,
     "start_time": "2021-06-23T05:54:19.044611",
     "status": "completed"
    },
    "tags": []
   },
   "outputs": [],
   "source": [
    "batch_size = 512\n",
    "epochs = 5\n",
    "vec_size = 300"
   ]
  },
  {
   "cell_type": "code",
   "execution_count": 15,
   "id": "different-holder",
   "metadata": {
    "execution": {
     "iopub.execute_input": "2021-06-23T05:54:20.888629Z",
     "iopub.status.busy": "2021-06-23T05:54:20.887731Z",
     "iopub.status.idle": "2021-06-23T06:09:43.766357Z",
     "shell.execute_reply": "2021-06-23T06:09:43.765621Z",
     "shell.execute_reply.started": "2021-06-23T05:33:29.072410Z"
    },
    "papermill": {
     "duration": 924.682224,
     "end_time": "2021-06-23T06:09:43.766526",
     "exception": false,
     "start_time": "2021-06-23T05:54:19.084302",
     "status": "completed"
    },
    "tags": []
   },
   "outputs": [
    {
     "name": "stdout",
     "output_type": "stream",
     "text": [
      "Epoch 1/5\n",
      "2821/2821 [==============================] - 186s 64ms/step - loss: 0.1938 - accuracy: 0.9345 - val_loss: 0.1505 - val_accuracy: 0.9450\n",
      "Epoch 2/5\n",
      "2821/2821 [==============================] - 182s 64ms/step - loss: 0.1497 - accuracy: 0.9451 - val_loss: 0.1482 - val_accuracy: 0.9457\n",
      "Epoch 3/5\n",
      "2821/2821 [==============================] - 181s 64ms/step - loss: 0.1429 - accuracy: 0.9471 - val_loss: 0.1440 - val_accuracy: 0.9465\n",
      "Epoch 4/5\n",
      "2821/2821 [==============================] - 182s 65ms/step - loss: 0.1390 - accuracy: 0.9480 - val_loss: 0.1440 - val_accuracy: 0.9467\n",
      "Epoch 5/5\n",
      "2821/2821 [==============================] - 184s 65ms/step - loss: 0.1335 - accuracy: 0.9498 - val_loss: 0.1484 - val_accuracy: 0.9444\n",
      "CPU times: user 12min 44s, sys: 32 s, total: 13min 16s\n",
      "Wall time: 15min 20s\n"
     ]
    }
   ],
   "source": [
    "%%time\n",
    "\n",
    "with tf.device('/device:GPU:0'):\n",
    "\n",
    "    model = Sequential()\n",
    "    model.add(Embedding(\n",
    "        vocab_size, \n",
    "        vec_size, \n",
    "        input_length=MAX_LEN, \n",
    "        weights=[word_vector_matrix], \n",
    "        trainable=False\n",
    "    ))\n",
    "\n",
    "    model.add(Bidirectional(LSTM(units=128, return_sequences = True)))\n",
    "    model.add(GlobalAveragePooling1D())\n",
    "    model.add(Dropout(0.5))\n",
    "    model.add(Dense(units = 1, activation = 'sigmoid'))\n",
    "    model.compile(optimizer=Adam(learning_rate = 0.001), loss = 'binary_crossentropy', metrics = ['accuracy'])\n",
    "    model.fit(X_train, y_train, validation_data=(X_val, y_val), epochs=epochs, batch_size=batch_size)"
   ]
  },
  {
   "cell_type": "code",
   "execution_count": 16,
   "id": "disabled-flood",
   "metadata": {
    "execution": {
     "iopub.execute_input": "2021-06-23T06:09:51.298685Z",
     "iopub.status.busy": "2021-06-23T06:09:51.297859Z",
     "iopub.status.idle": "2021-06-23T06:09:51.301307Z",
     "shell.execute_reply": "2021-06-23T06:09:51.299234Z",
     "shell.execute_reply.started": "2021-06-23T05:48:53.835073Z"
    },
    "papermill": {
     "duration": 3.890321,
     "end_time": "2021-06-23T06:09:51.301463",
     "exception": false,
     "start_time": "2021-06-23T06:09:47.411142",
     "status": "completed"
    },
    "tags": []
   },
   "outputs": [
    {
     "name": "stdout",
     "output_type": "stream",
     "text": [
      "Model: \"sequential\"\n",
      "_________________________________________________________________\n",
      "Layer (type)                 Output Shape              Param #   \n",
      "=================================================================\n",
      "embedding (Embedding)        (None, 100, 300)          177044400 \n",
      "_________________________________________________________________\n",
      "bidirectional (Bidirectional (None, 100, 256)          439296    \n",
      "_________________________________________________________________\n",
      "global_average_pooling1d (Gl (None, 256)               0         \n",
      "_________________________________________________________________\n",
      "dropout (Dropout)            (None, 256)               0         \n",
      "_________________________________________________________________\n",
      "dense (Dense)                (None, 1)                 257       \n",
      "=================================================================\n",
      "Total params: 177,483,953\n",
      "Trainable params: 439,553\n",
      "Non-trainable params: 177,044,400\n",
      "_________________________________________________________________\n"
     ]
    }
   ],
   "source": [
    "model.summary()"
   ]
  },
  {
   "cell_type": "code",
   "execution_count": 17,
   "id": "tough-myanmar",
   "metadata": {
    "execution": {
     "iopub.execute_input": "2021-06-23T06:09:58.721276Z",
     "iopub.status.busy": "2021-06-23T06:09:58.720426Z",
     "iopub.status.idle": "2021-06-23T06:09:58.722547Z",
     "shell.execute_reply": "2021-06-23T06:09:58.722945Z",
     "shell.execute_reply.started": "2021-06-23T05:48:53.847146Z"
    },
    "papermill": {
     "duration": 3.738991,
     "end_time": "2021-06-23T06:09:58.723077",
     "exception": false,
     "start_time": "2021-06-23T06:09:54.984086",
     "status": "completed"
    },
    "tags": []
   },
   "outputs": [],
   "source": [
    "# preds = model.predict(X_test, batch_size=2048)"
   ]
  },
  {
   "cell_type": "code",
   "execution_count": 18,
   "id": "crude-accessory",
   "metadata": {
    "execution": {
     "iopub.execute_input": "2021-06-23T06:10:06.097400Z",
     "iopub.status.busy": "2021-06-23T06:10:06.095883Z",
     "iopub.status.idle": "2021-06-23T06:10:06.098253Z",
     "shell.execute_reply": "2021-06-23T06:10:06.098654Z",
     "shell.execute_reply.started": "2021-06-23T05:48:53.853902Z"
    },
    "papermill": {
     "duration": 3.61953,
     "end_time": "2021-06-23T06:10:06.098787",
     "exception": false,
     "start_time": "2021-06-23T06:10:02.479257",
     "status": "completed"
    },
    "tags": []
   },
   "outputs": [],
   "source": [
    "# preds.dtype"
   ]
  },
  {
   "cell_type": "code",
   "execution_count": 19,
   "id": "active-waters",
   "metadata": {
    "execution": {
     "iopub.execute_input": "2021-06-23T06:10:14.192114Z",
     "iopub.status.busy": "2021-06-23T06:10:14.191536Z",
     "iopub.status.idle": "2021-06-23T06:10:14.242677Z",
     "shell.execute_reply": "2021-06-23T06:10:14.241641Z",
     "shell.execute_reply.started": "2021-06-23T05:49:06.607177Z"
    },
    "papermill": {
     "duration": 3.781272,
     "end_time": "2021-06-23T06:10:14.242804",
     "exception": false,
     "start_time": "2021-06-23T06:10:10.461532",
     "status": "completed"
    },
    "tags": []
   },
   "outputs": [],
   "source": [
    "submission = pd.read_csv('../input/jigsaw-unintended-bias-in-toxicity-classification/sample_submission.csv', index_col='id')"
   ]
  },
  {
   "cell_type": "code",
   "execution_count": 20,
   "id": "thousand-chambers",
   "metadata": {
    "execution": {
     "iopub.execute_input": "2021-06-23T06:10:21.825149Z",
     "iopub.status.busy": "2021-06-23T06:10:21.824210Z",
     "iopub.status.idle": "2021-06-23T06:10:27.072673Z",
     "shell.execute_reply": "2021-06-23T06:10:27.071799Z",
     "shell.execute_reply.started": "2021-06-23T05:49:35.122740Z"
    },
    "papermill": {
     "duration": 9.22107,
     "end_time": "2021-06-23T06:10:27.072811",
     "exception": false,
     "start_time": "2021-06-23T06:10:17.851741",
     "status": "completed"
    },
    "tags": []
   },
   "outputs": [],
   "source": [
    "submission['prediction'] = model.predict(X_test, batch_size=2048)"
   ]
  },
  {
   "cell_type": "code",
   "execution_count": 21,
   "id": "arctic-plastic",
   "metadata": {
    "execution": {
     "iopub.execute_input": "2021-06-23T06:10:34.566534Z",
     "iopub.status.busy": "2021-06-23T06:10:34.565712Z",
     "iopub.status.idle": "2021-06-23T06:10:34.572750Z",
     "shell.execute_reply": "2021-06-23T06:10:34.572341Z",
     "shell.execute_reply.started": "2021-06-23T05:50:12.727293Z"
    },
    "papermill": {
     "duration": 3.854333,
     "end_time": "2021-06-23T06:10:34.572868",
     "exception": false,
     "start_time": "2021-06-23T06:10:30.718535",
     "status": "completed"
    },
    "tags": []
   },
   "outputs": [
    {
     "data": {
      "text/html": [
       "<div>\n",
       "<style scoped>\n",
       "    .dataframe tbody tr th:only-of-type {\n",
       "        vertical-align: middle;\n",
       "    }\n",
       "\n",
       "    .dataframe tbody tr th {\n",
       "        vertical-align: top;\n",
       "    }\n",
       "\n",
       "    .dataframe thead th {\n",
       "        text-align: right;\n",
       "    }\n",
       "</style>\n",
       "<table border=\"1\" class=\"dataframe\">\n",
       "  <thead>\n",
       "    <tr style=\"text-align: right;\">\n",
       "      <th></th>\n",
       "      <th>prediction</th>\n",
       "    </tr>\n",
       "    <tr>\n",
       "      <th>id</th>\n",
       "      <th></th>\n",
       "    </tr>\n",
       "  </thead>\n",
       "  <tbody>\n",
       "    <tr>\n",
       "      <th>7097320</th>\n",
       "      <td>0.005821</td>\n",
       "    </tr>\n",
       "    <tr>\n",
       "      <th>7097321</th>\n",
       "      <td>0.019087</td>\n",
       "    </tr>\n",
       "    <tr>\n",
       "      <th>7097322</th>\n",
       "      <td>0.040998</td>\n",
       "    </tr>\n",
       "    <tr>\n",
       "      <th>7097323</th>\n",
       "      <td>0.002884</td>\n",
       "    </tr>\n",
       "    <tr>\n",
       "      <th>7097324</th>\n",
       "      <td>0.001476</td>\n",
       "    </tr>\n",
       "  </tbody>\n",
       "</table>\n",
       "</div>"
      ],
      "text/plain": [
       "         prediction\n",
       "id                 \n",
       "7097320    0.005821\n",
       "7097321    0.019087\n",
       "7097322    0.040998\n",
       "7097323    0.002884\n",
       "7097324    0.001476"
      ]
     },
     "execution_count": 21,
     "metadata": {},
     "output_type": "execute_result"
    }
   ],
   "source": [
    "submission.head()"
   ]
  },
  {
   "cell_type": "code",
   "execution_count": 22,
   "id": "defensive-backing",
   "metadata": {
    "execution": {
     "iopub.execute_input": "2021-06-23T06:10:42.348975Z",
     "iopub.status.busy": "2021-06-23T06:10:42.348143Z",
     "iopub.status.idle": "2021-06-23T06:10:42.797022Z",
     "shell.execute_reply": "2021-06-23T06:10:42.797519Z",
     "shell.execute_reply.started": "2021-06-23T05:50:15.295722Z"
    },
    "papermill": {
     "duration": 4.534978,
     "end_time": "2021-06-23T06:10:42.797686",
     "exception": false,
     "start_time": "2021-06-23T06:10:38.262708",
     "status": "completed"
    },
    "tags": []
   },
   "outputs": [],
   "source": [
    "submission.to_csv('submission.csv')"
   ]
  },
  {
   "cell_type": "code",
   "execution_count": null,
   "id": "6e7ec054",
   "metadata": {},
   "outputs": [],
   "source": []
  }
 ],
 "metadata": {
  "kernelspec": {
   "display_name": "Python 3",
   "language": "python",
   "name": "python3"
  },
  "language_info": {
   "codemirror_mode": {
    "name": "ipython",
    "version": 3
   },
   "file_extension": ".py",
   "mimetype": "text/x-python",
   "name": "python",
   "nbconvert_exporter": "python",
   "pygments_lexer": "ipython3",
   "version": "3.8.10"
  },
  "papermill": {
   "default_parameters": {},
   "duration": 1168.318757,
   "end_time": "2021-06-23T06:10:57.450816",
   "environment_variables": {},
   "exception": null,
   "input_path": "__notebook__.ipynb",
   "output_path": "__notebook__.ipynb",
   "parameters": {},
   "start_time": "2021-06-23T05:51:29.132059",
   "version": "2.3.3"
  }
 },
 "nbformat": 4,
 "nbformat_minor": 5
}
