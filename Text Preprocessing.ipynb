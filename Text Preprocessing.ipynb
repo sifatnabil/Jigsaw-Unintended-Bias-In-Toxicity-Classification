{
 "cells": [
  {
   "cell_type": "code",
   "execution_count": 15,
   "id": "durable-friday",
   "metadata": {},
   "outputs": [],
   "source": [
    "import numpy as np\n",
    "import pandas as pd\n",
    "import seaborn as sns\n",
    "import nltk\n",
    "import time\n",
    "from nltk.tokenize import word_tokenize\n",
    "from nltk.corpus import stopwords\n",
    "from string import punctuation\n",
    "from nltk.stem.porter import PorterStemmer"
   ]
  },
  {
   "cell_type": "code",
   "execution_count": 7,
   "id": "51586603",
   "metadata": {},
   "outputs": [],
   "source": [
    "train = pd.read_csv('train.csv')\n",
    "test = pd.read_csv('test.csv')"
   ]
  },
  {
   "cell_type": "code",
   "execution_count": 20,
   "id": "f33aaf84",
   "metadata": {},
   "outputs": [
    {
     "data": {
      "text/plain": [
       "(1804874, 45)"
      ]
     },
     "execution_count": 20,
     "metadata": {},
     "output_type": "execute_result"
    }
   ],
   "source": [
    "train.shape"
   ]
  },
  {
   "cell_type": "code",
   "execution_count": 21,
   "id": "03d4ec34",
   "metadata": {},
   "outputs": [
    {
     "data": {
      "text/plain": [
       "(97320, 2)"
      ]
     },
     "execution_count": 21,
     "metadata": {},
     "output_type": "execute_result"
    }
   ],
   "source": [
    "test.shape"
   ]
  },
  {
   "cell_type": "code",
   "execution_count": 3,
   "id": "a98389be",
   "metadata": {},
   "outputs": [
    {
     "data": {
      "text/html": [
       "<div>\n",
       "<style scoped>\n",
       "    .dataframe tbody tr th:only-of-type {\n",
       "        vertical-align: middle;\n",
       "    }\n",
       "\n",
       "    .dataframe tbody tr th {\n",
       "        vertical-align: top;\n",
       "    }\n",
       "\n",
       "    .dataframe thead th {\n",
       "        text-align: right;\n",
       "    }\n",
       "</style>\n",
       "<table border=\"1\" class=\"dataframe\">\n",
       "  <thead>\n",
       "    <tr style=\"text-align: right;\">\n",
       "      <th></th>\n",
       "      <th>id</th>\n",
       "      <th>target</th>\n",
       "      <th>comment_text</th>\n",
       "      <th>severe_toxicity</th>\n",
       "      <th>obscene</th>\n",
       "      <th>identity_attack</th>\n",
       "      <th>insult</th>\n",
       "      <th>threat</th>\n",
       "      <th>asian</th>\n",
       "      <th>atheist</th>\n",
       "      <th>...</th>\n",
       "      <th>article_id</th>\n",
       "      <th>rating</th>\n",
       "      <th>funny</th>\n",
       "      <th>wow</th>\n",
       "      <th>sad</th>\n",
       "      <th>likes</th>\n",
       "      <th>disagree</th>\n",
       "      <th>sexual_explicit</th>\n",
       "      <th>identity_annotator_count</th>\n",
       "      <th>toxicity_annotator_count</th>\n",
       "    </tr>\n",
       "  </thead>\n",
       "  <tbody>\n",
       "    <tr>\n",
       "      <th>0</th>\n",
       "      <td>59848</td>\n",
       "      <td>0.000000</td>\n",
       "      <td>This is so cool. It's like, 'would you want yo...</td>\n",
       "      <td>0.000000</td>\n",
       "      <td>0.0</td>\n",
       "      <td>0.000000</td>\n",
       "      <td>0.00000</td>\n",
       "      <td>0.0</td>\n",
       "      <td>NaN</td>\n",
       "      <td>NaN</td>\n",
       "      <td>...</td>\n",
       "      <td>2006</td>\n",
       "      <td>rejected</td>\n",
       "      <td>0</td>\n",
       "      <td>0</td>\n",
       "      <td>0</td>\n",
       "      <td>0</td>\n",
       "      <td>0</td>\n",
       "      <td>0.0</td>\n",
       "      <td>0</td>\n",
       "      <td>4</td>\n",
       "    </tr>\n",
       "    <tr>\n",
       "      <th>1</th>\n",
       "      <td>59849</td>\n",
       "      <td>0.000000</td>\n",
       "      <td>Thank you!! This would make my life a lot less...</td>\n",
       "      <td>0.000000</td>\n",
       "      <td>0.0</td>\n",
       "      <td>0.000000</td>\n",
       "      <td>0.00000</td>\n",
       "      <td>0.0</td>\n",
       "      <td>NaN</td>\n",
       "      <td>NaN</td>\n",
       "      <td>...</td>\n",
       "      <td>2006</td>\n",
       "      <td>rejected</td>\n",
       "      <td>0</td>\n",
       "      <td>0</td>\n",
       "      <td>0</td>\n",
       "      <td>0</td>\n",
       "      <td>0</td>\n",
       "      <td>0.0</td>\n",
       "      <td>0</td>\n",
       "      <td>4</td>\n",
       "    </tr>\n",
       "    <tr>\n",
       "      <th>2</th>\n",
       "      <td>59852</td>\n",
       "      <td>0.000000</td>\n",
       "      <td>This is such an urgent design problem; kudos t...</td>\n",
       "      <td>0.000000</td>\n",
       "      <td>0.0</td>\n",
       "      <td>0.000000</td>\n",
       "      <td>0.00000</td>\n",
       "      <td>0.0</td>\n",
       "      <td>NaN</td>\n",
       "      <td>NaN</td>\n",
       "      <td>...</td>\n",
       "      <td>2006</td>\n",
       "      <td>rejected</td>\n",
       "      <td>0</td>\n",
       "      <td>0</td>\n",
       "      <td>0</td>\n",
       "      <td>0</td>\n",
       "      <td>0</td>\n",
       "      <td>0.0</td>\n",
       "      <td>0</td>\n",
       "      <td>4</td>\n",
       "    </tr>\n",
       "    <tr>\n",
       "      <th>3</th>\n",
       "      <td>59855</td>\n",
       "      <td>0.000000</td>\n",
       "      <td>Is this something I'll be able to install on m...</td>\n",
       "      <td>0.000000</td>\n",
       "      <td>0.0</td>\n",
       "      <td>0.000000</td>\n",
       "      <td>0.00000</td>\n",
       "      <td>0.0</td>\n",
       "      <td>NaN</td>\n",
       "      <td>NaN</td>\n",
       "      <td>...</td>\n",
       "      <td>2006</td>\n",
       "      <td>rejected</td>\n",
       "      <td>0</td>\n",
       "      <td>0</td>\n",
       "      <td>0</td>\n",
       "      <td>0</td>\n",
       "      <td>0</td>\n",
       "      <td>0.0</td>\n",
       "      <td>0</td>\n",
       "      <td>4</td>\n",
       "    </tr>\n",
       "    <tr>\n",
       "      <th>4</th>\n",
       "      <td>59856</td>\n",
       "      <td>0.893617</td>\n",
       "      <td>haha you guys are a bunch of losers.</td>\n",
       "      <td>0.021277</td>\n",
       "      <td>0.0</td>\n",
       "      <td>0.021277</td>\n",
       "      <td>0.87234</td>\n",
       "      <td>0.0</td>\n",
       "      <td>0.0</td>\n",
       "      <td>0.0</td>\n",
       "      <td>...</td>\n",
       "      <td>2006</td>\n",
       "      <td>rejected</td>\n",
       "      <td>0</td>\n",
       "      <td>0</td>\n",
       "      <td>0</td>\n",
       "      <td>1</td>\n",
       "      <td>0</td>\n",
       "      <td>0.0</td>\n",
       "      <td>4</td>\n",
       "      <td>47</td>\n",
       "    </tr>\n",
       "  </tbody>\n",
       "</table>\n",
       "<p>5 rows × 45 columns</p>\n",
       "</div>"
      ],
      "text/plain": [
       "      id    target                                       comment_text  \\\n",
       "0  59848  0.000000  This is so cool. It's like, 'would you want yo...   \n",
       "1  59849  0.000000  Thank you!! This would make my life a lot less...   \n",
       "2  59852  0.000000  This is such an urgent design problem; kudos t...   \n",
       "3  59855  0.000000  Is this something I'll be able to install on m...   \n",
       "4  59856  0.893617               haha you guys are a bunch of losers.   \n",
       "\n",
       "   severe_toxicity  obscene  identity_attack   insult  threat  asian  atheist  \\\n",
       "0         0.000000      0.0         0.000000  0.00000     0.0    NaN      NaN   \n",
       "1         0.000000      0.0         0.000000  0.00000     0.0    NaN      NaN   \n",
       "2         0.000000      0.0         0.000000  0.00000     0.0    NaN      NaN   \n",
       "3         0.000000      0.0         0.000000  0.00000     0.0    NaN      NaN   \n",
       "4         0.021277      0.0         0.021277  0.87234     0.0    0.0      0.0   \n",
       "\n",
       "   ...  article_id    rating  funny  wow  sad  likes  disagree  \\\n",
       "0  ...        2006  rejected      0    0    0      0         0   \n",
       "1  ...        2006  rejected      0    0    0      0         0   \n",
       "2  ...        2006  rejected      0    0    0      0         0   \n",
       "3  ...        2006  rejected      0    0    0      0         0   \n",
       "4  ...        2006  rejected      0    0    0      1         0   \n",
       "\n",
       "   sexual_explicit  identity_annotator_count  toxicity_annotator_count  \n",
       "0              0.0                         0                         4  \n",
       "1              0.0                         0                         4  \n",
       "2              0.0                         0                         4  \n",
       "3              0.0                         0                         4  \n",
       "4              0.0                         4                        47  \n",
       "\n",
       "[5 rows x 45 columns]"
      ]
     },
     "execution_count": 3,
     "metadata": {},
     "output_type": "execute_result"
    }
   ],
   "source": [
    "train.head()"
   ]
  },
  {
   "cell_type": "code",
   "execution_count": 8,
   "id": "d68c0b96",
   "metadata": {},
   "outputs": [],
   "source": [
    "df = train[['comment_text', 'target']]"
   ]
  },
  {
   "cell_type": "code",
   "execution_count": 9,
   "id": "35ca384b",
   "metadata": {},
   "outputs": [
    {
     "data": {
      "text/plain": [
       "0    This is so cool. It's like, 'would you want yo...\n",
       "1    Thank you!! This would make my life a lot less...\n",
       "2    This is such an urgent design problem; kudos t...\n",
       "3    Is this something I'll be able to install on m...\n",
       "4                 haha you guys are a bunch of losers.\n",
       "Name: comment_text, dtype: object"
      ]
     },
     "execution_count": 9,
     "metadata": {},
     "output_type": "execute_result"
    }
   ],
   "source": [
    "df.comment_text.head()"
   ]
  },
  {
   "cell_type": "code",
   "execution_count": 10,
   "id": "b9d10d7b",
   "metadata": {},
   "outputs": [
    {
     "name": "stderr",
     "output_type": "stream",
     "text": [
      "<ipython-input-10-1e9be8338d85>:1: SettingWithCopyWarning: \n",
      "A value is trying to be set on a copy of a slice from a DataFrame.\n",
      "Try using .loc[row_indexer,col_indexer] = value instead\n",
      "\n",
      "See the caveats in the documentation: https://pandas.pydata.org/pandas-docs/stable/user_guide/indexing.html#returning-a-view-versus-a-copy\n",
      "  df['labels'] = (df['target'] >= 0.5).astype(int)\n"
     ]
    }
   ],
   "source": [
    "df['labels'] = (df['target'] >= 0.5).astype(int)"
   ]
  },
  {
   "cell_type": "code",
   "execution_count": 11,
   "id": "21ef2663",
   "metadata": {},
   "outputs": [
    {
     "data": {
      "text/html": [
       "<div>\n",
       "<style scoped>\n",
       "    .dataframe tbody tr th:only-of-type {\n",
       "        vertical-align: middle;\n",
       "    }\n",
       "\n",
       "    .dataframe tbody tr th {\n",
       "        vertical-align: top;\n",
       "    }\n",
       "\n",
       "    .dataframe thead th {\n",
       "        text-align: right;\n",
       "    }\n",
       "</style>\n",
       "<table border=\"1\" class=\"dataframe\">\n",
       "  <thead>\n",
       "    <tr style=\"text-align: right;\">\n",
       "      <th></th>\n",
       "      <th>comment_text</th>\n",
       "      <th>target</th>\n",
       "      <th>labels</th>\n",
       "    </tr>\n",
       "  </thead>\n",
       "  <tbody>\n",
       "    <tr>\n",
       "      <th>0</th>\n",
       "      <td>This is so cool. It's like, 'would you want yo...</td>\n",
       "      <td>0.000000</td>\n",
       "      <td>0</td>\n",
       "    </tr>\n",
       "    <tr>\n",
       "      <th>1</th>\n",
       "      <td>Thank you!! This would make my life a lot less...</td>\n",
       "      <td>0.000000</td>\n",
       "      <td>0</td>\n",
       "    </tr>\n",
       "    <tr>\n",
       "      <th>2</th>\n",
       "      <td>This is such an urgent design problem; kudos t...</td>\n",
       "      <td>0.000000</td>\n",
       "      <td>0</td>\n",
       "    </tr>\n",
       "    <tr>\n",
       "      <th>3</th>\n",
       "      <td>Is this something I'll be able to install on m...</td>\n",
       "      <td>0.000000</td>\n",
       "      <td>0</td>\n",
       "    </tr>\n",
       "    <tr>\n",
       "      <th>4</th>\n",
       "      <td>haha you guys are a bunch of losers.</td>\n",
       "      <td>0.893617</td>\n",
       "      <td>1</td>\n",
       "    </tr>\n",
       "  </tbody>\n",
       "</table>\n",
       "</div>"
      ],
      "text/plain": [
       "                                        comment_text    target  labels\n",
       "0  This is so cool. It's like, 'would you want yo...  0.000000       0\n",
       "1  Thank you!! This would make my life a lot less...  0.000000       0\n",
       "2  This is such an urgent design problem; kudos t...  0.000000       0\n",
       "3  Is this something I'll be able to install on m...  0.000000       0\n",
       "4               haha you guys are a bunch of losers.  0.893617       1"
      ]
     },
     "execution_count": 11,
     "metadata": {},
     "output_type": "execute_result"
    }
   ],
   "source": [
    "df.head()"
   ]
  },
  {
   "cell_type": "code",
   "execution_count": 12,
   "id": "256f881d",
   "metadata": {},
   "outputs": [
    {
     "name": "stderr",
     "output_type": "stream",
     "text": [
      "C:\\Users\\BS542\\anaconda3\\envs\\tensorflow_env\\lib\\site-packages\\seaborn\\_decorators.py:36: FutureWarning: Pass the following variable as a keyword arg: x. From version 0.12, the only valid positional argument will be `data`, and passing other arguments without an explicit keyword will result in an error or misinterpretation.\n",
      "  warnings.warn(\n"
     ]
    },
    {
     "data": {
      "text/plain": [
       "<AxesSubplot:xlabel='labels', ylabel='count'>"
      ]
     },
     "execution_count": 12,
     "metadata": {},
     "output_type": "execute_result"
    },
    {
     "data": {
      "image/png": "[encoded data removed]",
      "text/plain": [
       "<Figure size 432x288 with 1 Axes>"
      ]
     },
     "metadata": {
      "needs_background": "light"
     },
     "output_type": "display_data"
    }
   ],
   "source": [
    "sns.countplot(df['labels'])"
   ]
  },
  {
   "cell_type": "code",
   "execution_count": 18,
   "id": "a5380763",
   "metadata": {},
   "outputs": [
    {
     "name": "stdout",
     "output_type": "stream",
     "text": [
      "Wall time: 10min 56s\n"
     ]
    }
   ],
   "source": [
    "%%time\n",
    "token_lens = []\n",
    "for text in df.comment_text:\n",
    "    tokens = word_tokenize(text)\n",
    "    token_lens.append(len(tokens))"
   ]
  },
  {
   "cell_type": "code",
   "execution_count": 19,
   "id": "82af8db9",
   "metadata": {},
   "outputs": [
    {
     "name": "stderr",
     "output_type": "stream",
     "text": [
      "C:\\Users\\BS542\\anaconda3\\envs\\tensorflow_env\\lib\\site-packages\\seaborn\\distributions.py:2557: FutureWarning: `distplot` is a deprecated function and will be removed in a future version. Please adapt your code to use either `displot` (a figure-level function with similar flexibility) or `histplot` (an axes-level function for histograms).\n",
      "  warnings.warn(msg, FutureWarning)\n"
     ]
    },
    {
     "data": {
      "text/plain": [
       "<AxesSubplot:ylabel='Density'>"
      ]
     },
     "execution_count": 19,
     "metadata": {},
     "output_type": "execute_result"
    },
    {
     "data": {
      "image/png": "[encoded data removed]",
      "text/plain": [
       "<Figure size 432x288 with 1 Axes>"
      ]
     },
     "metadata": {
      "needs_background": "light"
     },
     "output_type": "display_data"
    }
   ],
   "source": [
    "sns.distplot(token_lens)"
   ]
  },
  {
   "cell_type": "code",
   "execution_count": 10,
   "id": "5b7c2d0b",
   "metadata": {},
   "outputs": [],
   "source": [
    "st = PorterStemmer()"
   ]
  },
  {
   "cell_type": "code",
   "execution_count": 11,
   "id": "358d3d63",
   "metadata": {},
   "outputs": [],
   "source": [
    "contractions = { \n",
    "\"ain't\": \"am not\",\n",
    "\"aren't\": \"are not\",\n",
    "\"can't\": \"cannot\",\n",
    "\"can't've\": \"cannot have\",\n",
    "\"'cause\": \"because\",\n",
    "\"could've\": \"could have\",\n",
    "\"couldn't\": \"could not\",\n",
    "\"couldn't've\": \"could not have\",\n",
    "\"didn't\": \"did not\",\n",
    "\"doesn't\": \"does not\",\n",
    "\"don't\": \"do not\",\n",
    "\"hadn't\": \"had not\",\n",
    "\"hadn't've\": \"had not have\",\n",
    "\"hasn't\": \"has not\",\n",
    "\"haven't\": \"have not\",\n",
    "\"he'd\": \"he would\",\n",
    "\"he'd've\": \"he would have\",\n",
    "\"he'll\": \"he will\",\n",
    "\"he'll've\": \"he will have\",\n",
    "\"he's\": \"he is\",\n",
    "\"how'd\": \"how did\",\n",
    "\"how'd'y\": \"how do you\",\n",
    "\"how'll\": \"how will\",\n",
    "\"how's\": \"how does\",\n",
    "\"i'd\": \"i would\",\n",
    "\"i'd've\": \"i would have\",\n",
    "\"i'll\": \"i will\",\n",
    "\"i'll've\": \"i will have\",\n",
    "\"i'm\": \"i am\",\n",
    "\"i've\": \"i have\",\n",
    "\"isn't\": \"is not\",\n",
    "\"it'd\": \"it would\",\n",
    "\"it'd've\": \"it would have\",\n",
    "\"it'll\": \"it will\",\n",
    "\"it'll've\": \"it will have\",\n",
    "\"it's\": \"it is\",\n",
    "\"let's\": \"let us\",\n",
    "\"ma'am\": \"madam\",\n",
    "\"mayn't\": \"may not\",\n",
    "\"might've\": \"might have\",\n",
    "\"mightn't\": \"might not\",\n",
    "\"mightn't've\": \"might not have\",\n",
    "\"must've\": \"must have\",\n",
    "\"mustn't\": \"must not\",\n",
    "\"mustn't've\": \"must not have\",\n",
    "\"needn't\": \"need not\",\n",
    "\"needn't've\": \"need not have\",\n",
    "\"o'clock\": \"of the clock\",\n",
    "\"oughtn't\": \"ought not\",\n",
    "\"oughtn't've\": \"ought not have\",\n",
    "\"shan't\": \"shall not\",\n",
    "\"sha'n't\": \"shall not\",\n",
    "\"shan't've\": \"shall not have\",\n",
    "\"she'd\": \"she would\",\n",
    "\"she'd've\": \"she would have\",\n",
    "\"she'll\": \"she will\",\n",
    "\"she'll've\": \"she will have\",\n",
    "\"she's\": \"she is\",\n",
    "\"should've\": \"should have\",\n",
    "\"shouldn't\": \"should not\",\n",
    "\"shouldn't've\": \"should not have\",\n",
    "\"so've\": \"so have\",\n",
    "\"so's\": \"so is\",\n",
    "\"that'd\": \"that would\",\n",
    "\"that'd've\": \"that would have\",\n",
    "\"that's\": \"that is\",\n",
    "\"there'd\": \"there would\",\n",
    "\"there'd've\": \"there would have\",\n",
    "\"there's\": \"there is\",\n",
    "\"they'd\": \"they would\",\n",
    "\"they'd've\": \"they would have\",\n",
    "\"they'll\": \"they will\",\n",
    "\"they'll've\": \"they will have\",\n",
    "\"they're\": \"they are\",\n",
    "\"they've\": \"they have\",\n",
    "\"to've\": \"to have\",\n",
    "\"wasn't\": \"was not\",\n",
    "\" u \": \" you \",\n",
    "\" ur \": \" your \",\n",
    "\" n \": \" and \"}"
   ]
  },
  {
   "cell_type": "code",
   "execution_count": 14,
   "id": "f70474aa",
   "metadata": {},
   "outputs": [],
   "source": [
    "def process_text(texts):\n",
    "    \n",
    "    corpus = []\n",
    "    \n",
    "    samples_completed = 0\n",
    "    \n",
    "    start = time.time()\n",
    "    \n",
    "    for (idx, text) in enumerate(texts):\n",
    "    \n",
    "        text = text.lower()\n",
    "\n",
    "        for key in contractions:\n",
    "            value = contractions[key]\n",
    "            text = text.replace(key, value)\n",
    "\n",
    "        for punc in list(punctuation):\n",
    "            text = text.replace(punc, '')\n",
    "\n",
    "        text = text.split()\n",
    "\n",
    "        text = [st.stem(word) for word in text if word not in stopwords.words('english')]\n",
    "\n",
    "        text = ' '.join(text)\n",
    "        \n",
    "        corpus.append(text)\n",
    "        \n",
    "        if (idx+1) % 10000 == 0:\n",
    "            samples_completed += 10000\n",
    "            print(f'Done for {samples_completed} texts')\n",
    "            print(f'Duration for 10,000 sampels: {time.time() - start}')\n",
    "            start = time.time()\n",
    "    \n",
    "    return corpus"
   ]
  },
  {
   "cell_type": "code",
   "execution_count": 16,
   "id": "876a87dd",
   "metadata": {},
   "outputs": [
    {
     "name": "stdout",
     "output_type": "stream",
     "text": [
      "Done for 20000 texts\n",
      "Duration for 10,000 sampels: 109.8931257724762\n",
      "Done for 30000 texts\n",
      "Duration for 10,000 sampels: 98.66737604141235\n",
      "Done for 40000 texts\n",
      "Duration for 10,000 sampels: 95.48126101493835\n",
      "Done for 50000 texts\n",
      "Duration for 10,000 sampels: 95.60384559631348\n",
      "Done for 60000 texts\n",
      "Duration for 10,000 sampels: 100.03803825378418\n",
      "Done for 70000 texts\n",
      "Duration for 10,000 sampels: 92.19299411773682\n",
      "Done for 80000 texts\n",
      "Duration for 10,000 sampels: 94.07646775245667\n",
      "Done for 90000 texts\n",
      "Duration for 10,000 sampels: 97.47564363479614\n",
      "Done for 100000 texts\n",
      "Duration for 10,000 sampels: 97.19663000106812\n",
      "Done for 110000 texts\n",
      "Duration for 10,000 sampels: 99.80796980857849\n",
      "Done for 120000 texts\n",
      "Duration for 10,000 sampels: 97.26198625564575\n",
      "Done for 130000 texts\n",
      "Duration for 10,000 sampels: 97.22037816047668\n",
      "Done for 140000 texts\n",
      "Duration for 10,000 sampels: 92.87584018707275\n",
      "Done for 150000 texts\n",
      "Duration for 10,000 sampels: 92.15343117713928\n",
      "Done for 160000 texts\n",
      "Duration for 10,000 sampels: 94.14972114562988\n",
      "Done for 170000 texts\n",
      "Duration for 10,000 sampels: 95.70508003234863\n",
      "Done for 180000 texts\n",
      "Duration for 10,000 sampels: 95.50672149658203\n",
      "Done for 190000 texts\n",
      "Duration for 10,000 sampels: 98.89322543144226\n",
      "Done for 200000 texts\n",
      "Duration for 10,000 sampels: 92.97947978973389\n",
      "Done for 210000 texts\n",
      "Duration for 10,000 sampels: 96.3552598953247\n",
      "Done for 220000 texts\n",
      "Duration for 10,000 sampels: 103.72298574447632\n",
      "Done for 230000 texts\n",
      "Duration for 10,000 sampels: 97.31946969032288\n",
      "Done for 240000 texts\n",
      "Duration for 10,000 sampels: 94.76436614990234\n",
      "Done for 250000 texts\n",
      "Duration for 10,000 sampels: 96.36160063743591\n",
      "Done for 260000 texts\n",
      "Duration for 10,000 sampels: 96.5431010723114\n",
      "Done for 270000 texts\n",
      "Duration for 10,000 sampels: 98.11658263206482\n",
      "Done for 280000 texts\n",
      "Duration for 10,000 sampels: 96.57200241088867\n",
      "Done for 290000 texts\n",
      "Duration for 10,000 sampels: 93.87632894515991\n",
      "Done for 300000 texts\n",
      "Duration for 10,000 sampels: 86.28990030288696\n",
      "Done for 310000 texts\n",
      "Duration for 10,000 sampels: 95.65771317481995\n",
      "Done for 320000 texts\n",
      "Duration for 10,000 sampels: 94.17220211029053\n",
      "Done for 330000 texts\n",
      "Duration for 10,000 sampels: 91.00816822052002\n",
      "Done for 340000 texts\n",
      "Duration for 10,000 sampels: 88.9315173625946\n",
      "Done for 350000 texts\n",
      "Duration for 10,000 sampels: 91.78877520561218\n",
      "Done for 360000 texts\n",
      "Duration for 10,000 sampels: 89.14880609512329\n",
      "Done for 370000 texts\n",
      "Duration for 10,000 sampels: 90.01118779182434\n",
      "Done for 380000 texts\n",
      "Duration for 10,000 sampels: 95.23264336585999\n",
      "Done for 390000 texts\n",
      "Duration for 10,000 sampels: 96.43276405334473\n",
      "Done for 400000 texts\n",
      "Duration for 10,000 sampels: 95.86688303947449\n",
      "Done for 410000 texts\n",
      "Duration for 10,000 sampels: 93.81097865104675\n",
      "Done for 420000 texts\n",
      "Duration for 10,000 sampels: 89.95426774024963\n",
      "Done for 430000 texts\n",
      "Duration for 10,000 sampels: 87.63543057441711\n",
      "Done for 440000 texts\n",
      "Duration for 10,000 sampels: 94.52312660217285\n",
      "Done for 450000 texts\n",
      "Duration for 10,000 sampels: 88.13833379745483\n",
      "Done for 460000 texts\n",
      "Duration for 10,000 sampels: 86.50975584983826\n",
      "Done for 470000 texts\n",
      "Duration for 10,000 sampels: 89.56265354156494\n",
      "Done for 480000 texts\n",
      "Duration for 10,000 sampels: 93.15039157867432\n",
      "Done for 490000 texts\n",
      "Duration for 10,000 sampels: 88.00087857246399\n",
      "Done for 500000 texts\n",
      "Duration for 10,000 sampels: 91.82972693443298\n",
      "Done for 510000 texts\n",
      "Duration for 10,000 sampels: 92.76256227493286\n",
      "Done for 520000 texts\n",
      "Duration for 10,000 sampels: 89.85401344299316\n",
      "Done for 530000 texts\n",
      "Duration for 10,000 sampels: 86.4712541103363\n",
      "Done for 540000 texts\n",
      "Duration for 10,000 sampels: 87.75258350372314\n",
      "Done for 550000 texts\n",
      "Duration for 10,000 sampels: 89.07862424850464\n",
      "Done for 560000 texts\n",
      "Duration for 10,000 sampels: 89.36561608314514\n",
      "Done for 570000 texts\n",
      "Duration for 10,000 sampels: 86.5933210849762\n",
      "Done for 580000 texts\n",
      "Duration for 10,000 sampels: 88.33241033554077\n",
      "Done for 590000 texts\n",
      "Duration for 10,000 sampels: 88.57002186775208\n",
      "Done for 600000 texts\n",
      "Duration for 10,000 sampels: 87.99438309669495\n",
      "Done for 610000 texts\n",
      "Duration for 10,000 sampels: 87.65158748626709\n",
      "Done for 620000 texts\n",
      "Duration for 10,000 sampels: 89.83590388298035\n",
      "Done for 630000 texts\n",
      "Duration for 10,000 sampels: 88.33956098556519\n",
      "Done for 640000 texts\n",
      "Duration for 10,000 sampels: 89.63305950164795\n",
      "Done for 650000 texts\n",
      "Duration for 10,000 sampels: 96.88433456420898\n",
      "Done for 660000 texts\n",
      "Duration for 10,000 sampels: 88.90939974784851\n",
      "Done for 670000 texts\n",
      "Duration for 10,000 sampels: 89.04745197296143\n",
      "Done for 680000 texts\n",
      "Duration for 10,000 sampels: 89.61773228645325\n",
      "Done for 690000 texts\n",
      "Duration for 10,000 sampels: 88.96995496749878\n",
      "Done for 700000 texts\n",
      "Duration for 10,000 sampels: 86.17689394950867\n",
      "Done for 710000 texts\n",
      "Duration for 10,000 sampels: 88.30065679550171\n",
      "Done for 720000 texts\n",
      "Duration for 10,000 sampels: 91.10345554351807\n",
      "Done for 730000 texts\n",
      "Duration for 10,000 sampels: 92.69204688072205\n",
      "Done for 740000 texts\n",
      "Duration for 10,000 sampels: 90.8378484249115\n",
      "Done for 750000 texts\n",
      "Duration for 10,000 sampels: 88.98928999900818\n",
      "Done for 760000 texts\n",
      "Duration for 10,000 sampels: 89.70486736297607\n",
      "Done for 770000 texts\n",
      "Duration for 10,000 sampels: 88.9443953037262\n",
      "Done for 780000 texts\n",
      "Duration for 10,000 sampels: 88.39308619499207\n",
      "Done for 790000 texts\n",
      "Duration for 10,000 sampels: 90.87589478492737\n",
      "Done for 800000 texts\n",
      "Duration for 10,000 sampels: 92.98559594154358\n",
      "Done for 810000 texts\n",
      "Duration for 10,000 sampels: 87.45556831359863\n",
      "Done for 820000 texts\n",
      "Duration for 10,000 sampels: 92.03118753433228\n",
      "Done for 830000 texts\n",
      "Duration for 10,000 sampels: 91.11112260818481\n",
      "Done for 840000 texts\n",
      "Duration for 10,000 sampels: 88.11706328392029\n",
      "Done for 850000 texts\n",
      "Duration for 10,000 sampels: 89.5855975151062\n",
      "Done for 860000 texts\n",
      "Duration for 10,000 sampels: 89.76148319244385\n",
      "Done for 870000 texts\n",
      "Duration for 10,000 sampels: 93.42439579963684\n",
      "Done for 880000 texts\n",
      "Duration for 10,000 sampels: 93.37407445907593\n",
      "Done for 890000 texts\n",
      "Duration for 10,000 sampels: 93.03692841529846\n",
      "Done for 900000 texts\n",
      "Duration for 10,000 sampels: 95.56675243377686\n",
      "Done for 910000 texts\n",
      "Duration for 10,000 sampels: 98.57245182991028\n",
      "Done for 920000 texts\n",
      "Duration for 10,000 sampels: 98.4211003780365\n",
      "Done for 930000 texts\n",
      "Duration for 10,000 sampels: 91.37987518310547\n",
      "Done for 940000 texts\n",
      "Duration for 10,000 sampels: 93.13321280479431\n",
      "Done for 950000 texts\n",
      "Duration for 10,000 sampels: 89.9210569858551\n",
      "Done for 960000 texts\n",
      "Duration for 10,000 sampels: 84.92755651473999\n",
      "Done for 970000 texts\n",
      "Duration for 10,000 sampels: 89.03196048736572\n",
      "Done for 980000 texts\n",
      "Duration for 10,000 sampels: 88.05835580825806\n",
      "Done for 990000 texts\n",
      "Duration for 10,000 sampels: 83.70859694480896\n",
      "Done for 1000000 texts\n",
      "Duration for 10,000 sampels: 90.4030864238739\n",
      "Done for 1010000 texts\n",
      "Duration for 10,000 sampels: 86.67172980308533\n",
      "Done for 1020000 texts\n",
      "Duration for 10,000 sampels: 85.89936757087708\n",
      "Done for 1030000 texts\n",
      "Duration for 10,000 sampels: 84.89164710044861\n",
      "Done for 1040000 texts\n",
      "Duration for 10,000 sampels: 85.64193844795227\n",
      "Done for 1050000 texts\n",
      "Duration for 10,000 sampels: 85.47673201560974\n",
      "Done for 1060000 texts\n",
      "Duration for 10,000 sampels: 90.04910135269165\n",
      "Done for 1070000 texts\n",
      "Duration for 10,000 sampels: 87.56425619125366\n",
      "Done for 1080000 texts\n",
      "Duration for 10,000 sampels: 83.35071396827698\n",
      "Done for 1090000 texts\n",
      "Duration for 10,000 sampels: 88.12979435920715\n",
      "Done for 1100000 texts\n",
      "Duration for 10,000 sampels: 88.23717856407166\n",
      "Done for 1110000 texts\n",
      "Duration for 10,000 sampels: 86.74541997909546\n",
      "Done for 1120000 texts\n",
      "Duration for 10,000 sampels: 88.01480317115784\n",
      "Done for 1130000 texts\n",
      "Duration for 10,000 sampels: 93.77749514579773\n",
      "Done for 1140000 texts\n",
      "Duration for 10,000 sampels: 95.75517320632935\n",
      "Done for 1150000 texts\n",
      "Duration for 10,000 sampels: 89.89836311340332\n",
      "Done for 1160000 texts\n",
      "Duration for 10,000 sampels: 97.09479141235352\n",
      "Done for 1170000 texts\n",
      "Duration for 10,000 sampels: 85.13790512084961\n",
      "Done for 1180000 texts\n",
      "Duration for 10,000 sampels: 88.04379892349243\n",
      "Done for 1190000 texts\n",
      "Duration for 10,000 sampels: 85.62979626655579\n",
      "Done for 1200000 texts\n",
      "Duration for 10,000 sampels: 90.69619512557983\n"
     ]
    },
    {
     "name": "stdout",
     "output_type": "stream",
     "text": [
      "Done for 1210000 texts\n",
      "Duration for 10,000 sampels: 84.19476413726807\n",
      "Done for 1220000 texts\n",
      "Duration for 10,000 sampels: 92.95915460586548\n",
      "Done for 1230000 texts\n",
      "Duration for 10,000 sampels: 97.70600152015686\n",
      "Done for 1240000 texts\n",
      "Duration for 10,000 sampels: 91.0356216430664\n",
      "Done for 1250000 texts\n",
      "Duration for 10,000 sampels: 87.66515684127808\n",
      "Done for 1260000 texts\n",
      "Duration for 10,000 sampels: 91.21673703193665\n",
      "Done for 1270000 texts\n",
      "Duration for 10,000 sampels: 91.39696264266968\n",
      "Done for 1280000 texts\n",
      "Duration for 10,000 sampels: 83.19346952438354\n",
      "Done for 1290000 texts\n",
      "Duration for 10,000 sampels: 88.33189916610718\n",
      "Done for 1300000 texts\n",
      "Duration for 10,000 sampels: 88.9108898639679\n",
      "Done for 1310000 texts\n",
      "Duration for 10,000 sampels: 83.47222900390625\n",
      "Done for 1320000 texts\n",
      "Duration for 10,000 sampels: 84.0505759716034\n",
      "Done for 1330000 texts\n",
      "Duration for 10,000 sampels: 89.3731210231781\n",
      "Done for 1340000 texts\n",
      "Duration for 10,000 sampels: 89.17681503295898\n",
      "Done for 1350000 texts\n",
      "Duration for 10,000 sampels: 90.1475248336792\n",
      "Done for 1360000 texts\n",
      "Duration for 10,000 sampels: 81.6280791759491\n",
      "Done for 1370000 texts\n",
      "Duration for 10,000 sampels: 88.05233001708984\n",
      "Done for 1380000 texts\n",
      "Duration for 10,000 sampels: 91.06632232666016\n",
      "Done for 1390000 texts\n",
      "Duration for 10,000 sampels: 96.2529296875\n",
      "Done for 1400000 texts\n",
      "Duration for 10,000 sampels: 91.0695550441742\n",
      "Done for 1410000 texts\n",
      "Duration for 10,000 sampels: 88.154789686203\n",
      "Done for 1420000 texts\n",
      "Duration for 10,000 sampels: 91.69601368904114\n",
      "Done for 1430000 texts\n",
      "Duration for 10,000 sampels: 88.25687026977539\n",
      "Done for 1440000 texts\n",
      "Duration for 10,000 sampels: 87.84691190719604\n",
      "Done for 1450000 texts\n",
      "Duration for 10,000 sampels: 89.02820920944214\n",
      "Done for 1460000 texts\n",
      "Duration for 10,000 sampels: 89.37717199325562\n",
      "Done for 1470000 texts\n",
      "Duration for 10,000 sampels: 92.31341028213501\n",
      "Done for 1480000 texts\n",
      "Duration for 10,000 sampels: 89.58562898635864\n",
      "Done for 1490000 texts\n",
      "Duration for 10,000 sampels: 89.19621276855469\n",
      "Done for 1500000 texts\n",
      "Duration for 10,000 sampels: 89.30815196037292\n",
      "Done for 1510000 texts\n",
      "Duration for 10,000 sampels: 88.73584723472595\n",
      "Done for 1520000 texts\n",
      "Duration for 10,000 sampels: 93.70099520683289\n",
      "Done for 1530000 texts\n",
      "Duration for 10,000 sampels: 88.71984100341797\n",
      "Done for 1540000 texts\n",
      "Duration for 10,000 sampels: 86.95837759971619\n",
      "Done for 1550000 texts\n",
      "Duration for 10,000 sampels: 85.81812286376953\n",
      "Done for 1560000 texts\n",
      "Duration for 10,000 sampels: 83.6750659942627\n",
      "Done for 1570000 texts\n",
      "Duration for 10,000 sampels: 86.35234522819519\n",
      "Done for 1580000 texts\n",
      "Duration for 10,000 sampels: 85.11311197280884\n",
      "Done for 1590000 texts\n",
      "Duration for 10,000 sampels: 85.58855628967285\n",
      "Done for 1600000 texts\n",
      "Duration for 10,000 sampels: 87.05034875869751\n",
      "Done for 1610000 texts\n",
      "Duration for 10,000 sampels: 84.03845047950745\n",
      "Done for 1620000 texts\n",
      "Duration for 10,000 sampels: 88.64587020874023\n",
      "Done for 1630000 texts\n",
      "Duration for 10,000 sampels: 91.32962656021118\n",
      "Done for 1640000 texts\n",
      "Duration for 10,000 sampels: 89.25558519363403\n",
      "Done for 1650000 texts\n",
      "Duration for 10,000 sampels: 84.45035934448242\n",
      "Done for 1660000 texts\n",
      "Duration for 10,000 sampels: 87.53662919998169\n",
      "Done for 1670000 texts\n",
      "Duration for 10,000 sampels: 87.14912724494934\n",
      "Done for 1680000 texts\n",
      "Duration for 10,000 sampels: 83.66426706314087\n",
      "Done for 1690000 texts\n",
      "Duration for 10,000 sampels: 84.01620841026306\n",
      "Done for 1700000 texts\n",
      "Duration for 10,000 sampels: 85.13377356529236\n",
      "Done for 1710000 texts\n",
      "Duration for 10,000 sampels: 90.73407459259033\n",
      "Done for 1720000 texts\n",
      "Duration for 10,000 sampels: 89.39675092697144\n",
      "Done for 1730000 texts\n",
      "Duration for 10,000 sampels: 86.57758569717407\n",
      "Done for 1740000 texts\n",
      "Duration for 10,000 sampels: 88.15508890151978\n",
      "Done for 1750000 texts\n",
      "Duration for 10,000 sampels: 84.18307542800903\n",
      "Done for 1760000 texts\n",
      "Duration for 10,000 sampels: 85.03429055213928\n",
      "Done for 1770000 texts\n",
      "Duration for 10,000 sampels: 83.67992448806763\n",
      "Done for 1780000 texts\n",
      "Duration for 10,000 sampels: 82.59018349647522\n",
      "Done for 1790000 texts\n",
      "Duration for 10,000 sampels: 84.28430938720703\n",
      "Done for 1800000 texts\n",
      "Duration for 10,000 sampels: 86.6426203250885\n",
      "Done for 1810000 texts\n",
      "Duration for 10,000 sampels: 82.6014564037323\n",
      "Wall time: 4h 31min 38s\n"
     ]
    }
   ],
   "source": [
    "%%time\n",
    "X_train = process_text(df.comment_text.values)"
   ]
  },
  {
   "cell_type": "code",
   "execution_count": 22,
   "id": "26c0404b",
   "metadata": {},
   "outputs": [],
   "source": [
    "y_train = df.labels.values"
   ]
  },
  {
   "cell_type": "code",
   "execution_count": 23,
   "id": "3934deba",
   "metadata": {},
   "outputs": [],
   "source": [
    "data = {\"text\": X_train,\n",
    "        \"label\": y_train}"
   ]
  },
  {
   "cell_type": "code",
   "execution_count": 24,
   "id": "1b46faba",
   "metadata": {},
   "outputs": [],
   "source": [
    "processed_csv = pd.DataFrame(data)"
   ]
  },
  {
   "cell_type": "code",
   "execution_count": 25,
   "id": "c8a89621",
   "metadata": {},
   "outputs": [
    {
     "data": {
      "text/html": [
       "<div>\n",
       "<style scoped>\n",
       "    .dataframe tbody tr th:only-of-type {\n",
       "        vertical-align: middle;\n",
       "    }\n",
       "\n",
       "    .dataframe tbody tr th {\n",
       "        vertical-align: top;\n",
       "    }\n",
       "\n",
       "    .dataframe thead th {\n",
       "        text-align: right;\n",
       "    }\n",
       "</style>\n",
       "<table border=\"1\" class=\"dataframe\">\n",
       "  <thead>\n",
       "    <tr style=\"text-align: right;\">\n",
       "      <th></th>\n",
       "      <th>text</th>\n",
       "      <th>label</th>\n",
       "    </tr>\n",
       "  </thead>\n",
       "  <tbody>\n",
       "    <tr>\n",
       "      <th>0</th>\n",
       "      <td>cool like would want mother read realli great ...</td>\n",
       "      <td>0</td>\n",
       "    </tr>\n",
       "    <tr>\n",
       "      <th>1</th>\n",
       "      <td>thank would make life lot less anxietyinduc ke...</td>\n",
       "      <td>0</td>\n",
       "    </tr>\n",
       "    <tr>\n",
       "      <th>2</th>\n",
       "      <td>urgent design problem kudo take impress</td>\n",
       "      <td>0</td>\n",
       "    </tr>\n",
       "    <tr>\n",
       "      <th>3</th>\n",
       "      <td>someth abl instal site releas</td>\n",
       "      <td>0</td>\n",
       "    </tr>\n",
       "    <tr>\n",
       "      <th>4</th>\n",
       "      <td>haha guy bunch loser</td>\n",
       "      <td>1</td>\n",
       "    </tr>\n",
       "  </tbody>\n",
       "</table>\n",
       "</div>"
      ],
      "text/plain": [
       "                                                text  label\n",
       "0  cool like would want mother read realli great ...      0\n",
       "1  thank would make life lot less anxietyinduc ke...      0\n",
       "2            urgent design problem kudo take impress      0\n",
       "3                      someth abl instal site releas      0\n",
       "4                               haha guy bunch loser      1"
      ]
     },
     "execution_count": 25,
     "metadata": {},
     "output_type": "execute_result"
    }
   ],
   "source": [
    "processed_csv.head()"
   ]
  },
  {
   "cell_type": "code",
   "execution_count": 29,
   "id": "0a59d6dc",
   "metadata": {},
   "outputs": [],
   "source": [
    "processed_csv.to_csv('processed_train.csv', index=False)"
   ]
  },
  {
   "cell_type": "code",
   "execution_count": 27,
   "id": "3b3b86f5",
   "metadata": {},
   "outputs": [
    {
     "name": "stdout",
     "output_type": "stream",
     "text": [
      "Wall time: 2.89 s\n"
     ]
    }
   ],
   "source": [
    "%%time\n",
    "token_lens = []\n",
    "for text in X_train:\n",
    "    tokens = text.split()\n",
    "    token_lens.append(len(tokens))"
   ]
  },
  {
   "cell_type": "code",
   "execution_count": 38,
   "id": "0e070a7d",
   "metadata": {},
   "outputs": [
    {
     "name": "stderr",
     "output_type": "stream",
     "text": [
      "C:\\Users\\BS542\\anaconda3\\envs\\tensorflow_env\\lib\\site-packages\\seaborn\\distributions.py:2557: FutureWarning: `distplot` is a deprecated function and will be removed in a future version. Please adapt your code to use either `displot` (a figure-level function with similar flexibility) or `histplot` (an axes-level function for histograms).\n",
      "  warnings.warn(msg, FutureWarning)\n"
     ]
    },
    {
     "data": {
      "image/png": "[encoded data removed]",
      "text/plain": [
       "<Figure size 432x288 with 1 Axes>"
      ]
     },
     "metadata": {
      "needs_background": "light"
     },
     "output_type": "display_data"
    }
   ],
   "source": [
    "sns_plot = sns.distplot(token_lens)"
   ]
  },
  {
   "cell_type": "code",
   "execution_count": 36,
   "id": "1f46a843",
   "metadata": {
    "scrolled": true
   },
   "outputs": [
    {
     "name": "stdout",
     "output_type": "stream",
     "text": [
      "Done for 20000 texts\n",
      "Duration for 10,000 sampels: 89.50954246520996\n",
      "Done for 30000 texts\n",
      "Duration for 10,000 sampels: 91.51566076278687\n",
      "Done for 40000 texts\n",
      "Duration for 10,000 sampels: 91.09845018386841\n",
      "Done for 50000 texts\n",
      "Duration for 10,000 sampels: 89.64175462722778\n",
      "Done for 60000 texts\n",
      "Duration for 10,000 sampels: 92.9445915222168\n",
      "Done for 70000 texts\n",
      "Duration for 10,000 sampels: 90.97537064552307\n",
      "Done for 80000 texts\n",
      "Duration for 10,000 sampels: 87.7637243270874\n",
      "Done for 90000 texts\n",
      "Duration for 10,000 sampels: 88.14662623405457\n",
      "Done for 100000 texts\n",
      "Duration for 10,000 sampels: 89.56486058235168\n"
     ]
    }
   ],
   "source": [
    "X_test = process_text(test.comment_text.values)"
   ]
  },
  {
   "cell_type": "code",
   "execution_count": 39,
   "id": "b3f15143",
   "metadata": {},
   "outputs": [],
   "source": [
    "sns_plot.figure.savefig('distribution_after.png')"
   ]
  },
  {
   "cell_type": "code",
   "execution_count": 41,
   "id": "00ae3df2",
   "metadata": {},
   "outputs": [],
   "source": [
    "with open('distribution_after_list.txt', 'w') as f:\n",
    "    for l in token_lens:\n",
    "        f.write(str(l) + \"\\n\")"
   ]
  },
  {
   "cell_type": "code",
   "execution_count": 43,
   "id": "052a6f57",
   "metadata": {},
   "outputs": [
    {
     "name": "stdout",
     "output_type": "stream",
     "text": [
      "Wall time: 159 ms\n"
     ]
    }
   ],
   "source": [
    "%%time\n",
    "token_lens = []\n",
    "for text in X_test:\n",
    "    tokens = text.split()\n",
    "    token_lens.append(len(tokens))"
   ]
  },
  {
   "cell_type": "code",
   "execution_count": 44,
   "id": "6228ab6c",
   "metadata": {},
   "outputs": [
    {
     "name": "stderr",
     "output_type": "stream",
     "text": [
      "C:\\Users\\BS542\\anaconda3\\envs\\tensorflow_env\\lib\\site-packages\\seaborn\\distributions.py:2557: FutureWarning: `distplot` is a deprecated function and will be removed in a future version. Please adapt your code to use either `displot` (a figure-level function with similar flexibility) or `histplot` (an axes-level function for histograms).\n",
      "  warnings.warn(msg, FutureWarning)\n"
     ]
    },
    {
     "data": {
      "text/plain": [
       "<AxesSubplot:ylabel='Density'>"
      ]
     },
     "execution_count": 44,
     "metadata": {},
     "output_type": "execute_result"
    },
    {
     "data": {
      "image/png": "[encoded data removed]",
      "text/plain": [
       "<Figure size 432x288 with 1 Axes>"
      ]
     },
     "metadata": {
      "needs_background": "light"
     },
     "output_type": "display_data"
    }
   ],
   "source": [
    "sns.distplot(token_lens)"
   ]
  },
  {
   "cell_type": "code",
   "execution_count": 45,
   "id": "226d3acd",
   "metadata": {},
   "outputs": [
    {
     "data": {
      "text/html": [
       "<div>\n",
       "<style scoped>\n",
       "    .dataframe tbody tr th:only-of-type {\n",
       "        vertical-align: middle;\n",
       "    }\n",
       "\n",
       "    .dataframe tbody tr th {\n",
       "        vertical-align: top;\n",
       "    }\n",
       "\n",
       "    .dataframe thead th {\n",
       "        text-align: right;\n",
       "    }\n",
       "</style>\n",
       "<table border=\"1\" class=\"dataframe\">\n",
       "  <thead>\n",
       "    <tr style=\"text-align: right;\">\n",
       "      <th></th>\n",
       "      <th>id</th>\n",
       "      <th>comment_text</th>\n",
       "    </tr>\n",
       "  </thead>\n",
       "  <tbody>\n",
       "    <tr>\n",
       "      <th>0</th>\n",
       "      <td>7097320</td>\n",
       "      <td>[ Integrity means that you pay your debts.]\\n\\...</td>\n",
       "    </tr>\n",
       "    <tr>\n",
       "      <th>1</th>\n",
       "      <td>7097321</td>\n",
       "      <td>This is malfeasance by the Administrator and t...</td>\n",
       "    </tr>\n",
       "    <tr>\n",
       "      <th>2</th>\n",
       "      <td>7097322</td>\n",
       "      <td>@Rmiller101 - Spoken like a true elitist. But ...</td>\n",
       "    </tr>\n",
       "    <tr>\n",
       "      <th>3</th>\n",
       "      <td>7097323</td>\n",
       "      <td>Paul: Thank you for your kind words.  I do, in...</td>\n",
       "    </tr>\n",
       "    <tr>\n",
       "      <th>4</th>\n",
       "      <td>7097324</td>\n",
       "      <td>Sorry you missed high school. Eisenhower sent ...</td>\n",
       "    </tr>\n",
       "  </tbody>\n",
       "</table>\n",
       "</div>"
      ],
      "text/plain": [
       "        id                                       comment_text\n",
       "0  7097320  [ Integrity means that you pay your debts.]\\n\\...\n",
       "1  7097321  This is malfeasance by the Administrator and t...\n",
       "2  7097322  @Rmiller101 - Spoken like a true elitist. But ...\n",
       "3  7097323  Paul: Thank you for your kind words.  I do, in...\n",
       "4  7097324  Sorry you missed high school. Eisenhower sent ..."
      ]
     },
     "execution_count": 45,
     "metadata": {},
     "output_type": "execute_result"
    }
   ],
   "source": [
    "test.head()"
   ]
  },
  {
   "cell_type": "code",
   "execution_count": 46,
   "id": "34bcc4fb",
   "metadata": {},
   "outputs": [],
   "source": [
    "data = {'id': test.id,\n",
    "        'text': X_test}"
   ]
  },
  {
   "cell_type": "code",
   "execution_count": 48,
   "id": "ed2f5b2d",
   "metadata": {},
   "outputs": [],
   "source": [
    "test_csv = pd.DataFrame(data)"
   ]
  },
  {
   "cell_type": "code",
   "execution_count": 49,
   "id": "fe6413e2",
   "metadata": {},
   "outputs": [
    {
     "data": {
      "text/html": [
       "<div>\n",
       "<style scoped>\n",
       "    .dataframe tbody tr th:only-of-type {\n",
       "        vertical-align: middle;\n",
       "    }\n",
       "\n",
       "    .dataframe tbody tr th {\n",
       "        vertical-align: top;\n",
       "    }\n",
       "\n",
       "    .dataframe thead th {\n",
       "        text-align: right;\n",
       "    }\n",
       "</style>\n",
       "<table border=\"1\" class=\"dataframe\">\n",
       "  <thead>\n",
       "    <tr style=\"text-align: right;\">\n",
       "      <th></th>\n",
       "      <th>id</th>\n",
       "      <th>text</th>\n",
       "    </tr>\n",
       "  </thead>\n",
       "  <tbody>\n",
       "    <tr>\n",
       "      <th>0</th>\n",
       "      <td>7097320</td>\n",
       "      <td>integr mean pay debt appli presid trump</td>\n",
       "    </tr>\n",
       "    <tr>\n",
       "      <th>1</th>\n",
       "      <td>7097321</td>\n",
       "      <td>malfeas administr board wast money</td>\n",
       "    </tr>\n",
       "    <tr>\n",
       "      <th>2</th>\n",
       "      <td>7097322</td>\n",
       "      <td>rmiller101 spoken like true elitist look bud r...</td>\n",
       "    </tr>\n",
       "    <tr>\n",
       "      <th>3</th>\n",
       "      <td>7097323</td>\n",
       "      <td>paul thank kind word inde strong belief hide b...</td>\n",
       "    </tr>\n",
       "    <tr>\n",
       "      <th>4</th>\n",
       "      <td>7097324</td>\n",
       "      <td>sorri miss high school eisenhow sent troop vie...</td>\n",
       "    </tr>\n",
       "  </tbody>\n",
       "</table>\n",
       "</div>"
      ],
      "text/plain": [
       "        id                                               text\n",
       "0  7097320            integr mean pay debt appli presid trump\n",
       "1  7097321                 malfeas administr board wast money\n",
       "2  7097322  rmiller101 spoken like true elitist look bud r...\n",
       "3  7097323  paul thank kind word inde strong belief hide b...\n",
       "4  7097324  sorri miss high school eisenhow sent troop vie..."
      ]
     },
     "execution_count": 49,
     "metadata": {},
     "output_type": "execute_result"
    }
   ],
   "source": [
    "test_csv.head()"
   ]
  },
  {
   "cell_type": "code",
   "execution_count": 51,
   "id": "6ada4288",
   "metadata": {},
   "outputs": [],
   "source": [
    "test_csv.to_csv('processed_test.csv', index=False)"
   ]
  },
  {
   "cell_type": "code",
   "execution_count": 52,
   "id": "f70a3b36",
   "metadata": {},
   "outputs": [],
   "source": [
    "MAX_LEN = 100"
   ]
  }
 ],
 "metadata": {
  "kernelspec": {
   "display_name": "Python 3",
   "language": "python",
   "name": "python3"
  },
  "language_info": {
   "codemirror_mode": {
    "name": "ipython",
    "version": 3
   },
   "file_extension": ".py",
   "mimetype": "text/x-python",
   "name": "python",
   "nbconvert_exporter": "python",
   "pygments_lexer": "ipython3",
   "version": "3.8.10"
  }
 },
 "nbformat": 4,
 "nbformat_minor": 5
}
